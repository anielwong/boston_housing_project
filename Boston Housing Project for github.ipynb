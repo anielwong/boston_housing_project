{
 "cells": [
  {
   "cell_type": "markdown",
   "metadata": {},
   "source": [
    "# Boston Housing Project\n",
    "## Model Evaluation & Validation\n",
    "## Project: Predicting Boston Housing Prices\n",
    "\n",
    "Welcome to the project of Predicting Boston Housing Prices! \n",
    "\n",
    "In this project, the performance and the predictive power of a model will be evaluated. The model has been trained and tested on data collected from homes in suburbs of Boston, Massachusetts. A model trained on this data that is seen as a *good fit* could then be used to make certain predictions about a home — in particular, its monetary value. This model would prove to be invaluable for someone like a real estate agent who could make use of such information on a daily basis.\n",
    "\n",
    "The dataset for this project originates from the [UCI Machine Learning Repository](https://archive.ics.uci.edu/ml/datasets/Housing). The Boston housing data was collected in 1978 and each of the 506 entries represent aggregated data about 14 features for homes from various suburbs in Boston, Massachusetts. For the purposes of this project, the following preprocessing steps have been made to the dataset:\n",
    "- 16 data points have an `'MEDV'` value of 50.0. These data points likely contain **missing or censored values** and have been removed.\n",
    "- 1 data point has an `'RM'` value of 8.78. This data point can be considered an **outlier** and has been removed.\n",
    "- The features `'RM'`, `'LSTAT'`, `'PTRATIO'`, and `'MEDV'` are essential. The remaining **non-relevant features** have been excluded.\n",
    "- The feature `'MEDV'` has been **multiplicatively scaled** to account for 35 years of market inflation.\n",
    "\n",
    "\n",
    ">**Note:** Code and Markdown cells can be executed using the **Shift + Enter** keyboard shortcut. In addition, Markdown cells can be edited by typically double-clicking the cell to enter edit mode."
   ]
  },
  {
   "cell_type": "code",
   "execution_count": 1,
   "metadata": {},
   "outputs": [
    {
     "name": "stdout",
     "output_type": "stream",
     "text": [
      "Boston housing dataset has 489 data points with 4 variables each.\n"
     ]
    }
   ],
   "source": [
    "# Import libraries necessary for this project\n",
    "import numpy as np\n",
    "import pandas as pd\n",
    "from sklearn.model_selection import ShuffleSplit\n",
    "\n",
    "# Import supplementary visualizations code visuals.py\n",
    "import visuals as vs\n",
    "\n",
    "### Implemented Imports\n",
    "from sklearn.metrics import r2_score\n",
    "from sklearn.metrics import make_scorer\n",
    "from sklearn.model_selection import GridSearchCV\n",
    "from sklearn.model_selection import train_test_split\n",
    "from sklearn.tree import DecisionTreeRegressor\n",
    "\n",
    "# Pretty display for notebooks\n",
    "%matplotlib inline\n",
    "\n",
    "# Load the Boston housing dataset\n",
    "data = pd.read_csv('housing.csv')\n",
    "prices = data['MEDV']\n",
    "features = data.drop('MEDV', axis = 1)\n",
    "    \n",
    "# Success\n",
    "print(\"Boston housing dataset has {} data points with {} variables each.\".format(*data.shape))"
   ]
  },
  {
   "cell_type": "markdown",
   "metadata": {},
   "source": [
    "----\n",
    "\n",
    "## Data Exploration\n",
    "In this first section of this project, a cursory investigation and observations about the Boston housing data is provided. \n",
    "\n",
    "Familiarizing yourself with the data through an explorative process is a fundamental practice to help you better understand and justify your results.\n",
    "\n",
    "Since the main goal of this project is to construct a working model which has the capability of predicting the value of houses, dataset separation into **features** and the **target variable** is needed. The **features**, `'RM'`, `'LSTAT'`, and `'PTRATIO'`, give us quantitative information about each data point. The **target variable**, `'MEDV'`, will be the variable we seek to predict. These are stored in `features` and `prices`, respectively.\n"
   ]
  },
  {
   "cell_type": "markdown",
   "metadata": {},
   "source": [
    "### Calculate Statistics\n",
    "Descriptive statistics about the Boston housing prices are calculated below. `numpy` library is used to perform the necessary calculations. These statistics will be extremely important later on to analyze various prediction results from the constructed model.\n",
    "\n",
    "In the code cell below are the descriptive statistics:\n",
    "- Calculate the minimum, maximum, mean, median, and standard deviation of `'MEDV'`, which is stored in `prices`.\n",
    "  - Store each calculation in their respective variable.\n",
    "  \n",
    "Descriptive statistics about the Boston housing prices are computed using `numpy` library. These statistics will be extremely important later on to analyze various prediction results from the constructed model.\n",
    "\n",
    "In the code cell below, the minimum, maximum, mean, median, and standard deviation of `'MEDV'`, which is stored in `prices` are computed."
   ]
  },
  {
   "cell_type": "code",
   "execution_count": 2,
   "metadata": {},
   "outputs": [
    {
     "name": "stdout",
     "output_type": "stream",
     "text": [
      "Statistics for Boston housing dataset:\n",
      "\n",
      "Minimum price: $105000.0\n",
      "Maximum price: $1024800.0\n",
      "Mean price: $454342.9447852761\n",
      "Median price $438900.0\n",
      "Standard deviation of prices: $165171.13154429477\n"
     ]
    }
   ],
   "source": [
    "# Minimum price of the data\n",
    "minimum_price = np.min(prices)\n",
    "\n",
    "# Maximum price of the data\n",
    "maximum_price = np.max(prices)\n",
    "\n",
    "# Mean price of the data\n",
    "mean_price = np.mean(prices)\n",
    "\n",
    "# Median price of the data\n",
    "median_price = np.median(prices)\n",
    "\n",
    "# Standard deviation of prices of the data\n",
    "std_price = np.std(prices)\n",
    "\n",
    "# Show the calculated statistics\n",
    "print(\"Statistics for Boston housing dataset:\\n\")\n",
    "print(\"Minimum price: ${}\".format(minimum_price)) \n",
    "print(\"Maximum price: ${}\".format(maximum_price))\n",
    "print(\"Mean price: ${}\".format(mean_price))\n",
    "print(\"Median price ${}\".format(median_price))\n",
    "print(\"Standard deviation of prices: ${}\".format(std_price))"
   ]
  },
  {
   "cell_type": "markdown",
   "metadata": {},
   "source": [
    "### Feature Observations\n",
    "As a reminder, three features are used from the Boston housing dataset: `'RM'`, `'LSTAT'`, and `'PTRATIO'`. For each data point (neighborhood):\n",
    "- `'RM'` is the average number of rooms among homes in the neighborhood.\n",
    "- `'LSTAT'` is the percentage of homeowners in the neighborhood considered \"lower class\" (working poor).\n",
    "- `'PTRATIO'` is the ratio of students to teachers in primary and secondary schools in the neighborhood.\n",
    "\n",
    "*The following observations are intuitions.*\n",
    "\n",
    "A house of RM = 6 would be expected to be less worth than a house of RM = 7. Thus the increase of RM should increase MEDV. Indeed, the more rooms there are in the house, the more space you have in the house.\n",
    "\n",
    "The increase of LSTAT feature should decrease the value of MEDV. Indeed, a low LSTAT percentage means that the neighborhood are in the upper class. This indicates that the environment of the house (playgrounds, roads, stores, parks, etc.) are well maintained. The higher class would be able to pay more taxes for maintenance cost of the area of the house. This would attract people so the price of the house would increase. \n",
    "\n",
    "The higher the value of PTRATIO, the lower the value of MEDV. So the increase of PTRATIO would decrease MEDV. People usually don't like classes that are crowded. This could be related to the density of population of the area and people usually don't like high density areas for house. This wouldn't attract people so the prices would decrease."
   ]
  },
  {
   "cell_type": "markdown",
   "metadata": {},
   "source": [
    "----\n",
    "\n",
    "## Developing a Model\n",
    "\n",
    "The aim of this second section of the project is to develop the tools and techniques necessary for a model to make a prediction. Being able to make accurate evaluations of each model's performance through the use of these tools and techniques helps to greatly reinforce the confidence in the predictions."
   ]
  },
  {
   "cell_type": "markdown",
   "metadata": {},
   "source": [
    "### Defining a Performance Metric\n",
    "It is difficult to measure the quality of a given model without quantifying its performance over training and testing. This is typically done using some type of performance metric, whether it is through calculating some type of error, the goodness of fit, or some other useful measurement. For this project, the [*coefficient of determination*](http://stattrek.com/statistics/dictionary.aspx?definition=coefficient_of_determination), R<sup>2</sup>, will be calculated to quantify the model's performance. The coefficient of determination for a model is a useful statistic in regression analysis, as it often describes how \"good\" that model is at making predictions. \n",
    "\n",
    "The values for R<sup>2</sup> range from 0 to 1, which captures the percentage of squared correlation between the predicted and actual values of the **target variable**. A model with an R<sup>2</sup> of 0 is no better than a model that always predicts the *mean* of the target variable, whereas a model with an R<sup>2</sup> of 1 perfectly predicts the target variable. Any value between 0 and 1 indicates what percentage of the target variable, using this model, can be explained by the **features**. _A model can be given a negative R<sup>2</sup> as well, which indicates that the model is **arbitrarily worse** than one that always predicts the mean of the target variable._\n",
    "\n",
    "This `performance_metric` function uses `r2_score` from `sklearn.metrics` to perform a performance calculation between `y_true` and `y_predict`\n"
   ]
  },
  {
   "cell_type": "code",
   "execution_count": 3,
   "metadata": {},
   "outputs": [],
   "source": [
    "# Calculate the performance score between 'y_true' and 'y_predict'\n",
    "def performance_metric(y_true, y_predict):\n",
    "    \"\"\" Calculates and returns the performance score between \n",
    "        true and predicted values based on the metric chosen. \"\"\"\n",
    "\n",
    "    return r2_score(y_true, y_predict)"
   ]
  },
  {
   "cell_type": "markdown",
   "metadata": {},
   "source": [
    "### Example of Goodness of Fit using the function above\n",
    "Assume that a dataset contains five data points and a model made the following predictions for the target variable:\n",
    "\n",
    "| True Value | Prediction |\n",
    "| :-------------: | :--------: |\n",
    "| 3.0 | 2.5 |\n",
    "| -0.5 | 0.0 |\n",
    "| 2.0 | 2.1 |\n",
    "| 7.0 | 7.8 |\n",
    "| 4.2 | 5.3 |\n",
    "\n",
    "In the code cell below, the `performance_metric` function is used to calculate the model's coefficient of determination."
   ]
  },
  {
   "cell_type": "code",
   "execution_count": 4,
   "metadata": {},
   "outputs": [
    {
     "name": "stdout",
     "output_type": "stream",
     "text": [
      "Model has a coefficient of determination, R^2, of 0.923.\n"
     ]
    }
   ],
   "source": [
    "# Calculate the performance of this model\n",
    "score = performance_metric([3, -0.5, 2, 7, 4.2], [2.5, 0.0, 2.1, 7.8, 5.3])\n",
    "print(\"Model has a coefficient of determination, R^2, of {:.3f}.\".format(score))"
   ]
  },
  {
   "cell_type": "markdown",
   "metadata": {},
   "source": [
    "For this example, the model have successfully captured the variation of the target variable. Indeed, the R<sup>2</sup> score is high, 92.3%, this means that the dependent variable, Y, can be predicted mostly from the independent variable, X, chosen for the prediction. \n",
    "\n",
    "Recall that the R<sup>2</sup> is the proportion of the variance in the dependent variable that is predictable from the independent variable. In other words:\n",
    " \n",
    "* R<sup>2</sup> score of 0 means that the dependent variable cannot be predicted from the independent variable.\n",
    "* R<sup>2</sup> score of 1 means the dependent variable can be predicted from the independent variable.\n",
    "* R<sup>2</sup> score between 0 and 1 indicates the extent to which the dependent variable is predictable. \n",
    "* R<sup>2</sup> score of 0.40 means that 40 percent of the variance in Y is predictable from X."
   ]
  },
  {
   "cell_type": "markdown",
   "metadata": {},
   "source": [
    "### Shuffle and Split Data\n",
    "\n",
    "In this sub-section, the Boston Housing dataset is split into training and testing subsets. Typically, the data is also shuffled into a random order when creating the training and testing subsets to remove any bias in the ordering of the dataset.\n",
    "\n",
    "`train_test_split` from `sklearn.model_selection` is used to shuffle and split the `features` and `prices` data into training and testing sets. The data is split as 80% for the training dataset and 20% for the testing dataset. \n",
    "\n",
    "The `random_state` for `train_test_split` is set to 42 (it can be any value) to ensure that the results are consistent. The train and testing splits are assigned to `X_train`, `X_test`, `y_train`, and `y_test`."
   ]
  },
  {
   "cell_type": "code",
   "execution_count": 5,
   "metadata": {},
   "outputs": [
    {
     "name": "stdout",
     "output_type": "stream",
     "text": [
      "Training and testing split was successful.\n"
     ]
    }
   ],
   "source": [
    "# Shuffle and split the data into training and testing subsets\n",
    "X_train, X_test, y_train, y_test = train_test_split(features, prices, test_size = 0.20, shuffle = True, random_state = 42)\n",
    "\n",
    "# Success\n",
    "print(\"Training and testing split was successful.\")"
   ]
  },
  {
   "cell_type": "markdown",
   "metadata": {},
   "source": [
    "### Training and Testing\n",
    "\n",
    "The benefit of splitting a dataset into some ratio of training and testing sets for a learning algorithm is to be able to prevent overfitting or underfitting. Indeed, when training the algorithm on a training set, the algorithm tends to overfit those datas. So in order to see if our algorithm is doing correctly, we try it on the same smaller dataset, the testing set in order to see how is our model is doing (overfitting or underfitting).\n"
   ]
  },
  {
   "cell_type": "markdown",
   "metadata": {},
   "source": [
    "----\n",
    "\n",
    "## Analyzing Model Performance\n",
    "\n",
    "In this third section of the project, several model's learning and testing performances are considered. The models are applied to various subsets of training data.\n",
    "\n",
    "Additionally, a particular algorithm with an increasing `'max_depth'` parameter is investigated on the full training set to observe how model complexity affects performance. \n",
    "Graphing model's performances based on varying criteria can be beneficial in the analysis process, such as visualizing behavior that may not have been apparent from the results alone."
   ]
  },
  {
   "cell_type": "markdown",
   "metadata": {},
   "source": [
    "### Learning Curves\n",
    "\n",
    "The following code cell produces four graphs for a decision tree model with different maximum depths. Each graph visualizes the learning curves of the model for both training and testing as the size of the training set is increased. Note that the shaded region of a learning curve denotes the uncertainty of that curve (measured as the standard deviation). The model is scored on both the training and testing sets using R<sup>2</sup>, the coefficient of determination.  \n"
   ]
  },
  {
   "cell_type": "code",
   "execution_count": 6,
   "metadata": {},
   "outputs": [
    {
     "data": {
      "image/png": "[encoded data removed]",
      "text/plain": [
       "<Figure size 720x504 with 4 Axes>"
      ]
     },
     "metadata": {},
     "output_type": "display_data"
    }
   ],
   "source": [
    "# Produce learning curves for varying training set sizes and maximum depths\n",
    "vs.ModelLearning(features, prices)"
   ]
  },
  {
   "cell_type": "markdown",
   "metadata": {},
   "source": [
    "### Learning the Data\n",
    "\n",
    "The graph with a maximum depth of 10 is considered here. The higher the score, the lower the error. So as the score of the training set stays close to 1, one can guess an overfitting on the training set. If the points of training set is increaed, the score would decrease only by a tiny amount, but in general it would stay as it is.  \n",
    "\n",
    "The overfitting with the curve of the testing set can be confirmed. Indeed, it doesn't converge with the curve of the training set even if the number of training points is rising. It would even, decrease the score of the testing set as the model is overfitted on the training set.\n",
    "\n",
    "Increasing the number of training set wouldn't benefit the model as there is an overfitting case. This would increase the error (so the testing score would decrease) on the testing set thus the curves won't converge. Also the shaded regions are very small in this graph which confirm the overfitting aspect of this case."
   ]
  },
  {
   "cell_type": "markdown",
   "metadata": {},
   "source": [
    "### Complexity Curves\n",
    "The following code cell produces a graph for a decision tree model that has been trained and validated on the training data using different maximum depths. The graph produces two complexity curves — one for training and one for validation. Similar to the **learning curves**, the shaded regions of both the complexity curves denote the uncertainty in those curves, and the model is scored on both the training and validation sets using the `performance_metric` function.  "
   ]
  },
  {
   "cell_type": "code",
   "execution_count": 7,
   "metadata": {},
   "outputs": [
    {
     "data": {
      "image/png": "[encoded data removed]",
      "text/plain": [
       "<Figure size 504x360 with 1 Axes>"
      ]
     },
     "metadata": {},
     "output_type": "display_data"
    }
   ],
   "source": [
    "vs.ModelComplexity(X_train, y_train)"
   ]
  },
  {
   "cell_type": "markdown",
   "metadata": {},
   "source": [
    "### Bias-Variance Tradeoff\n",
    "\n",
    "High bias is a sign of underfitting(model is not complex enough to pick up the nuances in the data) and high variance is a sign of overfitting(model is by-hearting the data and cannot generalize well). Think about which model(depth 1 or 10) aligns with which part of the tradeoff.\n",
    "\n",
    "When the model is trained with a maximum depth of 1, the model suffer from high bias. In this case, it is an underfitting model. There are large amount of misclassified points on the training and testing sets as the model underfit the datas.\n",
    "\n",
    "When the model is trained with a maximum depth of 10, the model suffer from high variance. The visual cues in the graph I used is the big gap between the training score graph and the cross validation score graph. Indeed, as it is an overfitting model, there are fewer errors on the training set (high score), and more errors in the validation score (smaller score)."
   ]
  },
  {
   "cell_type": "markdown",
   "metadata": {},
   "source": [
    "### Best-Guess Optimal Model\n",
    "\n",
    "By observing the graph given by the `vs.ModelComplexity(X_train, y_train)` above, one can affirm that the maximum depth of 4 generalizes best unseen datas. Indeed, that is where the highest score for the validation set is (lowest error).\n",
    "\n",
    "Also, the graph of learning curve indicates a maximum depth of higher 3 or more, but less than 6. Because, the deeper the depth is, the lower the score of the testing curve stabilises which indicates higher error. And with a max_depth of 6, the testing curve stabilizes at a lower score than a max_depth of 3.\n",
    "\n",
    "And remember, Occams Razor states \"Among competing hypotheses, the one with the fewest assumptions should be selected.\""
   ]
  },
  {
   "cell_type": "markdown",
   "metadata": {},
   "source": [
    "-----\n",
    "\n",
    "## Evaluating Model Performance\n",
    "\n",
    "In this final section of the project, a model is constructed and make a prediction on the client's feature set using an optimized model from `fit_model`."
   ]
  },
  {
   "cell_type": "markdown",
   "metadata": {},
   "source": [
    "### Grid Search\n",
    "\n",
    "A Grid Search is a grid where we confront 2 (or more) parameters against each other in order to find the best parameters for a model. This optimizes a learning algorithm by using them.\n",
    "\n",
    "For instance, we can confront the kernel ('poly','rbf') and the gamma (0.1, 1, 10) parameters  for an SVM and compute the f1_score for each combination: \n",
    "\n",
    "| kernel | gamma |\n",
    "| :----: | :----: |\n",
    "| poly | 0.1 |\n",
    "| poly | 1.0 |\n",
    "| poly | 10.0 |\n",
    "| rbf | 0.1 |\n",
    "| rbf | 1.0 |\n",
    "| rbf | 10.0 |\n",
    "\n",
    "When the lowest f1_score is found, the corresponding parameters for the model for optimization is used. One would then be confident that these parameters would have lower the error."
   ]
  },
  {
   "cell_type": "markdown",
   "metadata": {},
   "source": [
    "### Cross-Validation\n",
    "\n",
    "The K-fold cross-validation training technique is a method to recycle our data. \n",
    "\n",
    "The K stands for the number of bins we separate our data. For instance, our data set size is 200, and K = 10 bins, then in each bin, we have 20 data per bin.\n",
    "We use 1 bin as the testing bin and the remaining K-1 bins are put together into the training set. We then train our data with this data configuration.\n",
    "\n",
    "And then another testing bin (a different one each time) is chosen and training is done again. This is reapeated K times and the result of K-fold validation is the average of the results obtained on each set. \n",
    "\n",
    "This techniques enable to use all our data for training and all our data for testing, thus recycling our data. \n",
    "\n",
    "The benefit this technique provide for grid search when optimizing a model is that it gets rid of the variance problem that arrises. Indeed, a different accuracy on one test compared to another test set using the same algorithm appears. K-fold CV prevent that. Thus, it helps grid search by only having one accuracy instead of K different accuracies.\n",
    "\n",
    "Ressource on Cross-Validation is in the [doc](http://scikit-learn.org/stable/modules/cross_validation.html#cross-validation).\n"
   ]
  },
  {
   "cell_type": "markdown",
   "metadata": {},
   "source": [
    "### Implementation: Fitting a Model\n",
    "\n",
    "The final implementation requires to bring everything together and train a model using the **decision tree algorithm**. To ensure that an optimized model is produced, the model is trained using the grid search technique to optimize the `'max_depth'` parameter for the decision tree. The `'max_depth'` parameter can be thought of as how many questions the decision tree algorithm is allowed to ask about the data before making a prediction. Decision trees are part of a class of algorithms called *supervised learning algorithms*.\n",
    "\n",
    "In addition, `ShuffleSplit()` is used for an alternative form of cross-validation (see the `'cv_sets'` variable). While it is not the K-Fold cross-validation technique described above, this type of cross-validation technique is just as useful!. The `ShuffleSplit()` implementation below creates 10 (`'n_splits'`) shuffled sets, and for each shuffle, 20% (`'test_size'`) of the data will be used as the *validation set*. \n",
    "\n",
    "[`DecisionTreeRegressor`](http://scikit-learn.org/stable/modules/generated/sklearn.tree.DecisionTreeRegressor.html) from `sklearn.tree` is used to create a decision tree regressor object. The object is assigned to the `'regressor'` variable.\n",
    "\n",
    "A dictionary for `'max_depth'` with the values from 1 to 10 is creat4ed, and assigned to the `'params'` variable.\n",
    "\n",
    "[`make_scorer`](http://scikit-learn.org/stable/modules/generated/sklearn.metrics.make_scorer.html) from `sklearn.metrics` is used to create a scoring function object. The `performance_metric` function is passed as a parameter to the object. This scoring function is assigned to the `'scoring_fnc'` variable.\n",
    "\n",
    "[`GridSearchCV`](http://scikit-learn.org/0.20/modules/generated/sklearn.model_selection.GridSearchCV.html) from `sklearn.model_selection` is used to create a grid search object. The variables `'regressor'`, `'params'`, `'scoring_fnc'`, and `'cv_sets'` are passed as parameters to the object. The `GridSearchCV` object is assined to the `'grid'` variable.\n"
   ]
  },
  {
   "cell_type": "code",
   "execution_count": 8,
   "metadata": {},
   "outputs": [],
   "source": [
    "def fit_model(X, y):\n",
    "    \"\"\" Performs grid search over the 'max_depth' parameter for a \n",
    "        decision tree regressor trained on the input data [X, y]. \"\"\"\n",
    "    \n",
    "    # Creation of cross-validation sets from the training data\n",
    "    cv_sets = ShuffleSplit(n_splits = 10, test_size = 0.20, random_state = 0)\n",
    "\n",
    "    # Creation of a decision tree regressor object\n",
    "    regressor = DecisionTreeRegressor()\n",
    "\n",
    "    # Creation of a dictionary for the parameter 'max_depth' with a range from 1 to 10\n",
    "    params = {'max_depth':[1,2,3,4,5,6,7,8,9,10]}\n",
    "\n",
    "    # Transformation of 'performance_metric' into a scoring function using 'make_scorer' \n",
    "    scoring_fnc = make_scorer(performance_metric)\n",
    "\n",
    "    # Creation of the grid search cv object --> GridSearchCV()\n",
    "    # Make sure to include the right parameters in the object:\n",
    "    # (estimator, param_grid, scoring, cv) which have values 'regressor', 'params', 'scoring_fnc', and 'cv_sets' respectively.\n",
    "    grid = GridSearchCV(estimator = regressor, param_grid = params, scoring = scoring_fnc, cv = cv_sets)\n",
    "\n",
    "    # Fit the grid search object to the data to compute the optimal model\n",
    "    grid = grid.fit(X, y)\n",
    "\n",
    "    # Return the optimal model after fitting the data\n",
    "    return grid.best_estimator_"
   ]
  },
  {
   "cell_type": "markdown",
   "metadata": {},
   "source": [
    "### Making Predictions\n",
    "Once a model has been trained on a given set of data, it can now be used to make predictions on new sets of input data. In the case of a *decision tree regressor*, the model has learned *what the best questions to ask about the input data are*, and can respond with a prediction for the **target variable**. One can use these predictions to gain information about data where the value of the target variable is unknown — such as data the model was not trained on."
   ]
  },
  {
   "cell_type": "code",
   "execution_count": 9,
   "metadata": {},
   "outputs": [
    {
     "name": "stdout",
     "output_type": "stream",
     "text": [
      "Parameter 'max_depth' is 4 for the optimal model.\n"
     ]
    }
   ],
   "source": [
    "# Fitting the training data to the model using grid search\n",
    "reg = fit_model(X_train, y_train)\n",
    "\n",
    "# Produce the value for 'max_depth'\n",
    "print(\"Parameter 'max_depth' is {} for the optimal model.\".format(reg.get_params()['max_depth']))"
   ]
  },
  {
   "cell_type": "markdown",
   "metadata": {},
   "source": [
    "### Optimal Model\n",
    "\n",
    "The code block above fit the decision tree regressor to the training data and produce anoptimal model.\n",
    "\n",
    "The maximum depth the **optimal model** have is 4 which corresponds to the *guessed* maximum depth above. It is also congruent to the fact that it was higher than 3 but less than 6."
   ]
  },
  {
   "cell_type": "markdown",
   "metadata": {},
   "source": [
    "### Question 10 - Predicting Selling Prices\n",
    "Imagine a real estate agent in the Boston area is looking to use this model to help price homes owned by several clients that they wish to sell. The following informations have been collected from three clients:\n",
    "\n",
    "| Feature | Client 1 | Client 2 | Client 3 |\n",
    "| :---: | :---: | :---: | :---: |\n",
    "| Total number of rooms in home | 5 rooms | 4 rooms | 8 rooms |\n",
    "| Neighborhood poverty level (as %) | 17% | 32% | 3% |\n",
    "| Student-teacher ratio of nearby schools | 15-to-1 | 22-to-1 | 12-to-1 |\n",
    "\n",
    "Of the three clients, client 3 has has the biggest house, in the best public school neighborhood with the lowest poverty level; while client 2 has the smallest house, in a neighborhood with a relatively high poverty rate and not the best public schools.\n",
    "\n",
    "Run the code block below to have the optimized model make predictions for each client's home.\n"
   ]
  },
  {
   "cell_type": "code",
   "execution_count": 10,
   "metadata": {},
   "outputs": [
    {
     "name": "stdout",
     "output_type": "stream",
     "text": [
      "Predicted selling price for Client 1's home: $403,025.00\n",
      "Predicted selling price for Client 2's home: $237,478.72\n",
      "Predicted selling price for Client 3's home: $931,636.36\n"
     ]
    }
   ],
   "source": [
    "# Produce a matrix for client data\n",
    "client_data = [[5, 17, 15], # Client 1\n",
    "               [4, 32, 22], # Client 2\n",
    "               [8, 3, 12]]  # Client 3\n",
    "\n",
    "# Show predictions\n",
    "for i, price in enumerate(reg.predict(client_data)):\n",
    "    print(\"Predicted selling price for Client {}'s home: ${:,.2f}\".format(i+1, price))"
   ]
  },
  {
   "cell_type": "markdown",
   "metadata": {},
   "source": [
    "Predicted selling price for Client 1's home: $403,025.00\n",
    "\n",
    "Predicted selling price for Client 2's home: $237,478.72\n",
    "\n",
    "Predicted selling price for Client 3's home: $931,636.36\n",
    "\n",
    "The prices seem reasonable given their respective features. Also, the explanation given in the Data Exploration matches the order and the \"prices\" of the houses predicted. \n",
    "\n",
    "Client 1: The model predicted for a house with 5 rooms, 17\\% of neighborhood of poverty and a 15-1 student-teacher ratio is $403,025.00. \n",
    "The 3 features are in between the client 2 and client 3 feature's, which is correctly classified as so in its predicted selling price.\n",
    "\n",
    "Client 2: The model predicted for a house with 4 rooms, 32\\% of neighborhood of poverty and a 2-1 student-teacher ratio is $237,478.72.\n",
    "This has the lowest predicted price. It can be explained with its low amount of rooms, its high percentage of neighborhood poverty and its high ratio of student-teacher. In the overall, this house wouldn't be that expensive as its features all tends to decrease its price.\n",
    "\n",
    "Client 3: The model predicted for a house with 8 rooms, 3\\% of neighborhood of poverty and a 12-1 student-teacher ratio is $931,636.36.\n",
    "This has the higher predicted price. Contrary to client 2, the features of client 3 tends to push upward its predicted price. Indeed, it has a high amount of rooms, a very low percentage of neighborhood poverty and a very low student-teacher ratio.\n"
   ]
  },
  {
   "cell_type": "markdown",
   "metadata": {},
   "source": [
    "### Sensitivity\n",
    "An optimal model is not necessarily a robust model. Sometimes, a model is either too complex or too simple to sufficiently generalize to new data. Sometimes, a model could use a learning algorithm that is not appropriate for the structure of the data given. Other times, the data itself could be too noisy or contain too few samples to allow a model to adequately capture the target variable — i.e., the model is underfitted. \n",
    "\n",
    "**The code cell below runs the `fit_model` function ten times with different training and testing sets to see how the prediction for a specific client changes with respect to the data it's trained on.**\n"
   ]
  },
  {
   "cell_type": "code",
   "execution_count": 11,
   "metadata": {},
   "outputs": [
    {
     "name": "stdout",
     "output_type": "stream",
     "text": [
      "Trial 1: $391,183.33\n",
      "Trial 2: $424,935.00\n",
      "Trial 3: $415,800.00\n",
      "Trial 4: $420,622.22\n",
      "Trial 5: $418,377.27\n",
      "Trial 6: $411,931.58\n",
      "Trial 7: $399,663.16\n",
      "Trial 8: $407,232.00\n",
      "Trial 9: $351,577.61\n",
      "Trial 10: $413,700.00\n",
      "\n",
      "Range in prices: $73,357.39\n"
     ]
    }
   ],
   "source": [
    "vs.PredictTrials(features, prices, fit_model, client_data)"
   ]
  },
  {
   "cell_type": "markdown",
   "metadata": {},
   "source": [
    "### Applicability\n",
    "\n",
    "The range calculated is a little more than 70,000.00$ which is a big amount already. This can be explained by the fact that the data collected from 1978 is not relevant for today's market. Inflation is important here and should be taken in account. \n",
    "The features present in the data is not enough to describe a home. We need more different and independent features, like if there's a garden, parking lot, square feet, presence of a pool, how many floors there are, and so on. \n",
    "The model isn't robust enough to make consistent predictions. For instance, the data collected in an urban city wouldn't be applicable in a rural city, because of the different set of features those two areas would have. \n"
   ]
  },
  {
   "cell_type": "code",
   "execution_count": null,
   "metadata": {},
   "outputs": [],
   "source": []
  }
 ],
 "metadata": {
  "kernelspec": {
   "display_name": "Python [conda env:Anaconda3]",
   "language": "python",
   "name": "conda-env-Anaconda3-py"
  },
  "language_info": {
   "codemirror_mode": {
    "name": "ipython",
    "version": 3
   },
   "file_extension": ".py",
   "mimetype": "text/x-python",
   "name": "python",
   "nbconvert_exporter": "python",
   "pygments_lexer": "ipython3",
   "version": "3.6.6"
  }
 },
 "nbformat": 4,
 "nbformat_minor": 2
}
